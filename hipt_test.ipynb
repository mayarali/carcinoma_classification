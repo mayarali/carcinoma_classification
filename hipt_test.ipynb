{
 "cells": [
  {
   "cell_type": "code",
   "execution_count": 1,
   "metadata": {},
   "outputs": [],
   "source": [
    "%load_ext autoreload\n",
    "%autoreload 2"
   ]
  },
  {
   "cell_type": "code",
   "execution_count": 2,
   "metadata": {},
   "outputs": [],
   "source": [
    "# clone repo\n",
    "# !git clone https://github.com/mahmoodlab/HIPT.git"
   ]
  },
  {
   "cell_type": "code",
   "execution_count": 3,
   "metadata": {},
   "outputs": [
    {
     "name": "stdout",
     "output_type": "stream",
     "text": [
      "True\n"
     ]
    },
    {
     "name": "stderr",
     "output_type": "stream",
     "text": [
      "/opt/conda/envs/hipt/lib/python3.8/site-packages/torchvision/datapoints/__init__.py:12: UserWarning: The torchvision.datapoints and torchvision.transforms.v2 namespaces are still Beta. While we do not expect major breaking changes, some APIs may still change according to user feedback. Please submit any feedback you may have in this issue: https://github.com/pytorch/vision/issues/6753, and you can also check out https://github.com/pytorch/vision/issues/7319 to learn more about the APIs that we suspect might involve future changes. You can silence this warning by calling torchvision.disable_beta_transforms_warning().\n",
      "  warnings.warn(_BETA_TRANSFORMS_WARNING)\n",
      "/opt/conda/envs/hipt/lib/python3.8/site-packages/torchvision/transforms/v2/__init__.py:54: UserWarning: The torchvision.datapoints and torchvision.transforms.v2 namespaces are still Beta. While we do not expect major breaking changes, some APIs may still change according to user feedback. Please submit any feedback you may have in this issue: https://github.com/pytorch/vision/issues/6753, and you can also check out https://github.com/pytorch/vision/issues/7319 to learn more about the APIs that we suspect might involve future changes. You can silence this warning by calling torchvision.disable_beta_transforms_warning().\n",
      "  warnings.warn(_BETA_TRANSFORMS_WARNING)\n",
      "/opt/conda/envs/hipt/lib/python3.8/site-packages/umap/distances.py:1063: NumbaDeprecationWarning: The 'nopython' keyword argument was not supplied to the 'numba.jit' decorator. The implicit default value for this argument is currently False, but it will be changed to True in Numba 0.59.0. See https://numba.readthedocs.io/en/stable/reference/deprecation.html#deprecation-of-object-mode-fall-back-behaviour-when-using-jit for details.\n",
      "  @numba.jit()\n",
      "/opt/conda/envs/hipt/lib/python3.8/site-packages/umap/distances.py:1071: NumbaDeprecationWarning: The 'nopython' keyword argument was not supplied to the 'numba.jit' decorator. The implicit default value for this argument is currently False, but it will be changed to True in Numba 0.59.0. See https://numba.readthedocs.io/en/stable/reference/deprecation.html#deprecation-of-object-mode-fall-back-behaviour-when-using-jit for details.\n",
      "  @numba.jit()\n",
      "/opt/conda/envs/hipt/lib/python3.8/site-packages/umap/distances.py:1086: NumbaDeprecationWarning: The 'nopython' keyword argument was not supplied to the 'numba.jit' decorator. The implicit default value for this argument is currently False, but it will be changed to True in Numba 0.59.0. See https://numba.readthedocs.io/en/stable/reference/deprecation.html#deprecation-of-object-mode-fall-back-behaviour-when-using-jit for details.\n",
      "  @numba.jit()\n",
      "/opt/conda/envs/hipt/lib/python3.8/site-packages/tqdm/auto.py:21: TqdmWarning: IProgress not found. Please update jupyter and ipywidgets. See https://ipywidgets.readthedocs.io/en/stable/user_install.html\n",
      "  from .autonotebook import tqdm as notebook_tqdm\n",
      "/opt/conda/envs/hipt/lib/python3.8/site-packages/umap/umap_.py:660: NumbaDeprecationWarning: The 'nopython' keyword argument was not supplied to the 'numba.jit' decorator. The implicit default value for this argument is currently False, but it will be changed to True in Numba 0.59.0. See https://numba.readthedocs.io/en/stable/reference/deprecation.html#deprecation-of-object-mode-fall-back-behaviour-when-using-jit for details.\n",
      "  @numba.jit()\n"
     ]
    }
   ],
   "source": [
    "import sys\n",
    "\n",
    "sys.path.append(\"./HIPT/HIPT_4K/\")\n",
    "\n",
    "import torch\n",
    "from PIL import Image, ImageFile\n",
    "\n",
    "ImageFile.LOAD_TRUNCATED_IMAGES = True\n",
    "print(ImageFile.LOAD_TRUNCATED_IMAGES)\n",
    "from torchinfo import summary\n",
    "import seaborn as sns\n",
    "from einops import rearrange, repeat\n",
    "from HIPT.HIPT_4K.hipt_4k import HIPT_4K\n",
    "from HIPT.HIPT_4K.hipt_model_utils import eval_transforms\n",
    "import torchvision.transforms as T\n",
    "from torchvision.models import resnet50, convnext_base, convnext_large, efficientnet_v2_s, efficientnet_v2_m\n",
    "from torchvision.models import ResNet50_Weights, ConvNeXt_Large_Weights, ConvNeXt_Base_Weights, EfficientNet_V2_S_Weights, EfficientNet_V2_M_Weights\n",
    "from torchvision.models.feature_extraction import create_feature_extractor\n",
    "from torchvision.models.feature_extraction import get_graph_node_names\n",
    "from torchvision.transforms.functional import pad\n",
    "from hipt_model_utils import (\n",
    "    get_vit256,\n",
    "    get_vit4k,\n",
    "    tensorbatch2im,\n",
    "    eval_transforms,\n",
    "    roll_batch2img,\n",
    ")\n",
    "import vision_transformer as vit\n",
    "from sklearn.pipeline import Pipeline\n",
    "from sklearn.preprocessing import StandardScaler\n",
    "from sklearn.svm import SVC\n",
    "from functools import partial\n",
    "\n",
    "from utils.utils import *\n",
    "from utils.vit_utils import *\n",
    "from utils.cross_val import *"
   ]
  },
  {
   "attachments": {},
   "cell_type": "markdown",
   "metadata": {},
   "source": [
    "## Check untransformed data"
   ]
  },
  {
   "cell_type": "code",
   "execution_count": 4,
   "metadata": {},
   "outputs": [],
   "source": [
    "train_set, train_loader, test_set, test_loader = check_data()"
   ]
  },
  {
   "cell_type": "code",
   "execution_count": 5,
   "metadata": {},
   "outputs": [],
   "source": [
    "small_region = Image.open(\"./HIPT/HIPT_4K/image_demo/image_256.png\")\n",
    "# small_region"
   ]
  },
  {
   "cell_type": "code",
   "execution_count": 6,
   "metadata": {},
   "outputs": [],
   "source": [
    "min_dims = []\n",
    "for img in test_set.orig_images:\n",
    "    min_dims.append(min(img.size))\n",
    "\n",
    "max_dims = []\n",
    "for img in test_set.orig_images:\n",
    "    max_dims.append(max(img.size))\n"
   ]
  },
  {
   "cell_type": "code",
   "execution_count": 7,
   "metadata": {},
   "outputs": [],
   "source": [
    "# plt.hist(min_dims, bins=100)"
   ]
  },
  {
   "cell_type": "code",
   "execution_count": 8,
   "metadata": {},
   "outputs": [],
   "source": [
    "# test_set.images[10]"
   ]
  },
  {
   "attachments": {},
   "cell_type": "markdown",
   "metadata": {},
   "source": [
    "## Define model"
   ]
  },
  {
   "cell_type": "code",
   "execution_count": 9,
   "metadata": {},
   "outputs": [
    {
     "name": "stdout",
     "output_type": "stream",
     "text": [
      "Take key teacher in provided checkpoint dict\n",
      "Pretrained weights found at ./HIPT/HIPT_4K/Checkpoints/vit256_small_dino.pth and loaded with msg: _IncompatibleKeys(missing_keys=[], unexpected_keys=['head.mlp.0.weight', 'head.mlp.0.bias', 'head.mlp.2.weight', 'head.mlp.2.bias', 'head.mlp.4.weight', 'head.mlp.4.bias', 'head.last_layer.weight_g', 'head.last_layer.weight_v'])\n"
     ]
    }
   ],
   "source": [
    "model = vit.vit_small(patch_size=16, num_classes=0)\n",
    "\n",
    "# feature_extractor.eval();\n",
    "checkpoint_key = \"teacher\"\n",
    "pretrained_weights = \"./HIPT/HIPT_4K/Checkpoints/vit256_small_dino.pth\"\n",
    "device = torch.device(\"cuda:0\")\n",
    "for p in model.parameters():\n",
    "    p.requires_grad = False\n",
    "model.eval()\n",
    "model.to(device)\n",
    "if os.path.isfile(pretrained_weights):\n",
    "    state_dict = torch.load(pretrained_weights, map_location=\"cpu\")\n",
    "    if checkpoint_key is not None and checkpoint_key in state_dict:\n",
    "        print(f\"Take key {checkpoint_key} in provided checkpoint dict\")\n",
    "        state_dict = state_dict[checkpoint_key]\n",
    "    # remove `module.` prefix\n",
    "    state_dict = {k.replace(\"module.\", \"\"): v for k, v in state_dict.items()}\n",
    "    # remove `backbone.` prefix induced by multicrop wrapper\n",
    "    state_dict = {k.replace(\"backbone.\", \"\"): v for k, v in state_dict.items()}\n",
    "    msg = model.load_state_dict(state_dict, strict=False)\n",
    "    print(\n",
    "        \"Pretrained weights found at {} and loaded with msg: {}\".format(\n",
    "            pretrained_weights, msg\n",
    "        )\n",
    "    )\n",
    "feature_extractor = model"
   ]
  },
  {
   "cell_type": "code",
   "execution_count": 10,
   "metadata": {},
   "outputs": [],
   "source": [
    "# example = train_set[0][0]\n",
    "# batch = example.unsqueeze(0)\n",
    "# patches, num_patches = extract_patches(batch, size=224)\n",
    "\n",
    "# for patch in patches:\n",
    "#     plt.imshow(patch.cpu().numpy().transpose(1, 2, 0))\n",
    "#     plt.show()"
   ]
  },
  {
   "cell_type": "code",
   "execution_count": 11,
   "metadata": {},
   "outputs": [],
   "source": [
    "\n",
    "# # load different pretrained model\n",
    "# # weights = ConvNeXt_Large_Weights.DEFAULT\n",
    "# # model = convnext_large(weights=weights)\n",
    "\n",
    "# # weights = ConvNeXt_Base_Weights.DEFAULT\n",
    "# # model = convnext_base(weights=weights)\n",
    "\n",
    "# weights = EfficientNet_V2_S_Weights.DEFAULT\n",
    "# model = efficientnet_v2_s(weights=weights)\n",
    "# return_nodes = {\n",
    "#     \"flatten\": \"out\",\n",
    "#     # \"classifier.0\": \"out\"\n",
    "# }\n",
    "# train_nodes, eval_nodes = get_graph_node_names(model)\n",
    "# train_nodes[-10::]\n",
    "\n",
    "# # return_nodes = [\"classifier.1\"]\n",
    "# feature_extractor = create_feature_extractor(model, return_nodes=return_nodes)\n",
    "# feature_extractor = FeatureExtractor(feature_extractor)\n",
    "\n",
    "# device = torch.device(\"cuda:7\" if torch.cuda.is_available() else \"cpu\")\n",
    "# # device = \"cpu\"\n",
    "# print(f\"Using device: {device}\")\n",
    "# feature_extractor.to(device);\n",
    "# feature_extractor.eval();\n",
    "# model_transforms = weights.transforms(antialias=True)"
   ]
  },
  {
   "cell_type": "code",
   "execution_count": 12,
   "metadata": {},
   "outputs": [
    {
     "data": {
      "text/plain": [
       "torch.Size([62, 4608])"
      ]
     },
     "execution_count": 12,
     "metadata": {},
     "output_type": "execute_result"
    }
   ],
   "source": [
    "with torch.no_grad():\n",
    "    for batch in train_loader:\n",
    "        img, label = batch\n",
    "        img = img.to(device)\n",
    "        patches, num_patches = extract_patches(img, size=224)\n",
    "        out = feature_extractor(patches)\n",
    "        out = out.reshape(-1, num_patches * out.shape[-1])\n",
    "\n",
    "out.shape"
   ]
  },
  {
   "attachments": {},
   "cell_type": "markdown",
   "metadata": {},
   "source": [
    "## Setup data"
   ]
  },
  {
   "cell_type": "code",
   "execution_count": 13,
   "metadata": {},
   "outputs": [
    {
     "data": {
      "text/plain": [
       "(62, 124)"
      ]
     },
     "execution_count": 13,
     "metadata": {},
     "output_type": "execute_result"
    }
   ],
   "source": [
    "data_dir = \"./data\"\n",
    "image_dir = f\"{data_dir}/oxml-carinoma-classification\"\n",
    "image_paths, label_path = get_image_and_label_paths(image_dir)\n",
    "\n",
    "labels_df = pd.read_csv(label_path)\n",
    "labels = labels_df[\"malignant\"].tolist()\n",
    "train_ids = labels_df[\"id\"].tolist()\n",
    "train_set_paths, test_set_paths = get_train_test_paths(image_paths, train_ids=train_ids)\n",
    "len(train_set_paths), len(test_set_paths)"
   ]
  },
  {
   "cell_type": "code",
   "execution_count": 14,
   "metadata": {},
   "outputs": [],
   "source": [
    "data_dir = \"./data\"\n",
    "image_dir = f\"{data_dir}/breakhis_v1\"\n",
    "image_paths_extra, label_path = get_image_and_label_paths(image_dir)\n",
    "\n",
    "labels_df_extra = pd.read_csv(label_path)\n",
    "labels_extra = labels_df_extra[\"malignant\"].tolist()"
   ]
  },
  {
   "cell_type": "code",
   "execution_count": 15,
   "metadata": {},
   "outputs": [
    {
     "data": {
      "text/plain": [
       "492"
      ]
     },
     "execution_count": 15,
     "metadata": {},
     "output_type": "execute_result"
    }
   ],
   "source": [
    "len(image_paths_extra)"
   ]
  },
  {
   "cell_type": "code",
   "execution_count": 16,
   "metadata": {},
   "outputs": [
    {
     "data": {
      "text/html": [
       "<div>\n",
       "<style scoped>\n",
       "    .dataframe tbody tr th:only-of-type {\n",
       "        vertical-align: middle;\n",
       "    }\n",
       "\n",
       "    .dataframe tbody tr th {\n",
       "        vertical-align: top;\n",
       "    }\n",
       "\n",
       "    .dataframe thead th {\n",
       "        text-align: right;\n",
       "    }\n",
       "</style>\n",
       "<table border=\"1\" class=\"dataframe\">\n",
       "  <thead>\n",
       "    <tr style=\"text-align: right;\">\n",
       "      <th></th>\n",
       "      <th>file_name</th>\n",
       "      <th>cancer_type</th>\n",
       "      <th>subtype</th>\n",
       "      <th>magnification</th>\n",
       "      <th>malignant</th>\n",
       "    </tr>\n",
       "  </thead>\n",
       "  <tbody>\n",
       "    <tr>\n",
       "      <th>0</th>\n",
       "      <td>SOB_M_DC-14-20629-100-026.png</td>\n",
       "      <td>malignant</td>\n",
       "      <td>ductal_carcinoma</td>\n",
       "      <td>100</td>\n",
       "      <td>1</td>\n",
       "    </tr>\n",
       "    <tr>\n",
       "      <th>1</th>\n",
       "      <td>SOB_M_DC-14-20629-100-010.png</td>\n",
       "      <td>malignant</td>\n",
       "      <td>ductal_carcinoma</td>\n",
       "      <td>100</td>\n",
       "      <td>1</td>\n",
       "    </tr>\n",
       "    <tr>\n",
       "      <th>2</th>\n",
       "      <td>SOB_M_DC-14-20629-200-004.png</td>\n",
       "      <td>malignant</td>\n",
       "      <td>ductal_carcinoma</td>\n",
       "      <td>200</td>\n",
       "      <td>1</td>\n",
       "    </tr>\n",
       "    <tr>\n",
       "      <th>3</th>\n",
       "      <td>SOB_M_DC-14-20629-200-009.png</td>\n",
       "      <td>malignant</td>\n",
       "      <td>ductal_carcinoma</td>\n",
       "      <td>200</td>\n",
       "      <td>1</td>\n",
       "    </tr>\n",
       "    <tr>\n",
       "      <th>4</th>\n",
       "      <td>SOB_M_DC-14-20629-400-010.png</td>\n",
       "      <td>malignant</td>\n",
       "      <td>ductal_carcinoma</td>\n",
       "      <td>400</td>\n",
       "      <td>1</td>\n",
       "    </tr>\n",
       "    <tr>\n",
       "      <th>...</th>\n",
       "      <td>...</td>\n",
       "      <td>...</td>\n",
       "      <td>...</td>\n",
       "      <td>...</td>\n",
       "      <td>...</td>\n",
       "    </tr>\n",
       "    <tr>\n",
       "      <th>487</th>\n",
       "      <td>SOB_B_A-14-29960CD-100-001.png</td>\n",
       "      <td>benign</td>\n",
       "      <td>adenosis</td>\n",
       "      <td>100</td>\n",
       "      <td>0</td>\n",
       "    </tr>\n",
       "    <tr>\n",
       "      <th>488</th>\n",
       "      <td>SOB_B_A-14-29960CD-200-010.png</td>\n",
       "      <td>benign</td>\n",
       "      <td>adenosis</td>\n",
       "      <td>200</td>\n",
       "      <td>0</td>\n",
       "    </tr>\n",
       "    <tr>\n",
       "      <th>489</th>\n",
       "      <td>SOB_B_A-14-29960CD-200-014.png</td>\n",
       "      <td>benign</td>\n",
       "      <td>adenosis</td>\n",
       "      <td>200</td>\n",
       "      <td>0</td>\n",
       "    </tr>\n",
       "    <tr>\n",
       "      <th>490</th>\n",
       "      <td>SOB_B_A-14-29960CD-400-003.png</td>\n",
       "      <td>benign</td>\n",
       "      <td>adenosis</td>\n",
       "      <td>400</td>\n",
       "      <td>0</td>\n",
       "    </tr>\n",
       "    <tr>\n",
       "      <th>491</th>\n",
       "      <td>SOB_B_A-14-29960CD-400-002.png</td>\n",
       "      <td>benign</td>\n",
       "      <td>adenosis</td>\n",
       "      <td>400</td>\n",
       "      <td>0</td>\n",
       "    </tr>\n",
       "  </tbody>\n",
       "</table>\n",
       "<p>492 rows × 5 columns</p>\n",
       "</div>"
      ],
      "text/plain": [
       "                          file_name cancer_type           subtype  \\\n",
       "0     SOB_M_DC-14-20629-100-026.png   malignant  ductal_carcinoma   \n",
       "1     SOB_M_DC-14-20629-100-010.png   malignant  ductal_carcinoma   \n",
       "2     SOB_M_DC-14-20629-200-004.png   malignant  ductal_carcinoma   \n",
       "3     SOB_M_DC-14-20629-200-009.png   malignant  ductal_carcinoma   \n",
       "4     SOB_M_DC-14-20629-400-010.png   malignant  ductal_carcinoma   \n",
       "..                              ...         ...               ...   \n",
       "487  SOB_B_A-14-29960CD-100-001.png      benign          adenosis   \n",
       "488  SOB_B_A-14-29960CD-200-010.png      benign          adenosis   \n",
       "489  SOB_B_A-14-29960CD-200-014.png      benign          adenosis   \n",
       "490  SOB_B_A-14-29960CD-400-003.png      benign          adenosis   \n",
       "491  SOB_B_A-14-29960CD-400-002.png      benign          adenosis   \n",
       "\n",
       "     magnification  malignant  \n",
       "0              100          1  \n",
       "1              100          1  \n",
       "2              200          1  \n",
       "3              200          1  \n",
       "4              400          1  \n",
       "..             ...        ...  \n",
       "487            100          0  \n",
       "488            200          0  \n",
       "489            200          0  \n",
       "490            400          0  \n",
       "491            400          0  \n",
       "\n",
       "[492 rows x 5 columns]"
      ]
     },
     "execution_count": 16,
     "metadata": {},
     "output_type": "execute_result"
    }
   ],
   "source": [
    "labels_df_extra"
   ]
  },
  {
   "cell_type": "code",
   "execution_count": 17,
   "metadata": {},
   "outputs": [
    {
     "name": "stdout",
     "output_type": "stream",
     "text": [
      "Index([1, 0], dtype='int64', name='malignant')\n",
      "Index(['malignant', 'benign'], dtype='object', name='malignant')\n"
     ]
    },
    {
     "data": {
      "image/png": "[encoded data removed]",
      "text/plain": [
       "<Figure size 640x480 with 1 Axes>"
      ]
     },
     "metadata": {},
     "output_type": "display_data"
    }
   ],
   "source": [
    "labels_df = pd.read_csv(label_path)\n",
    "analyze_class_distribution(labels_df)"
   ]
  },
  {
   "cell_type": "code",
   "execution_count": 18,
   "metadata": {},
   "outputs": [],
   "source": [
    "seed_everything(42)"
   ]
  },
  {
   "cell_type": "code",
   "execution_count": 19,
   "metadata": {},
   "outputs": [],
   "source": [
    "test_transforms = T.Compose([eval_transforms()])\n",
    "train_transforms = T.Compose([eval_transforms()])\n",
    "train_set, train_loader, test_set, test_loader = prepare_train_test_data(\n",
    "    train_set_paths,\n",
    "    test_set_paths,\n",
    "    labels,\n",
    "    train_transforms=train_transforms,\n",
    "    test_transforms=test_transforms,\n",
    "    train_batch_size=62,\n",
    "    test_batch_size=1024,\n",
    "    num_workers=8,\n",
    "    one_hot=False,\n",
    ")"
   ]
  },
  {
   "cell_type": "code",
   "execution_count": 20,
   "metadata": {},
   "outputs": [],
   "source": [
    "test_transforms = T.Compose([eval_transforms()])\n",
    "train_transforms = T.Compose(\n",
    "    [\n",
    "        T.RandomHorizontalFlip(p=0.5),\n",
    "        T.RandomVerticalFlip(p=0.5),\n",
    "        T.ColorJitter(brightness=0.5, contrast=0.5, saturation=0.5, hue=0),\n",
    "        T.GaussianBlur(kernel_size=3, sigma=(0.1, 2.0)),\n",
    "        eval_transforms(),\n",
    "    ]\n",
    ")\n",
    "num_mod_samples_orig = len(train_set_paths + image_paths_extra)\n",
    "(\n",
    "    train_set_mod,\n",
    "    train_loader_mod,\n",
    "    test_set_mod,\n",
    "    test_loader_mod,\n",
    ") = prepare_train_test_data(\n",
    "    train_set_paths + image_paths_extra,\n",
    "    test_set_paths,\n",
    "    labels + labels_extra,\n",
    "    train_transforms=train_transforms,\n",
    "    test_transforms=test_transforms,\n",
    "    train_batch_size=128,\n",
    "    test_batch_size=1024,\n",
    "    num_workers=0,\n",
    "    one_hot=False,\n",
    ")"
   ]
  },
  {
   "cell_type": "code",
   "execution_count": 21,
   "metadata": {},
   "outputs": [],
   "source": [
    "# k = 0\n",
    "# for batch in itertools.cycle(train_loader_mod):\n",
    "#     img, label = batch\n",
    "#     print(img.shape)\n",
    "#     print(label.shape)\n",
    "#     k += 1\n",
    "#     if k > 5:\n",
    "#         break"
   ]
  },
  {
   "attachments": {},
   "cell_type": "markdown",
   "metadata": {},
   "source": [
    "## Extract features"
   ]
  },
  {
   "cell_type": "code",
   "execution_count": 22,
   "metadata": {},
   "outputs": [
    {
     "name": "stdout",
     "output_type": "stream",
     "text": [
      "X.shape: (62, 4608), y.shape: (62,)\n",
      "X.shape: (124, 4608), y.shape: (124,)\n",
      "X.shape: (554, 4608), y.shape: (554,)\n"
     ]
    }
   ],
   "source": [
    "patch_size = 224\n",
    "X_train, y_train = extract_feature_sets(\n",
    "    feature_extractor, train_loader, device=device, patch_size=patch_size\n",
    ")\n",
    "X_test, y_test = extract_feature_sets(\n",
    "    feature_extractor, test_loader, device=device, patch_size=patch_size\n",
    ")\n",
    "X_train_mod, y_train_mod = extract_feature_sets(\n",
    "    feature_extractor,\n",
    "    train_loader_mod,\n",
    "    num_samples_target=num_mod_samples_orig * 1,\n",
    "    device=device,\n",
    "    patch_size=patch_size,\n",
    ")"
   ]
  },
  {
   "cell_type": "code",
   "execution_count": null,
   "metadata": {},
   "outputs": [],
   "source": [
    "visualize_umap(X_train, y_train)"
   ]
  },
  {
   "attachments": {},
   "cell_type": "markdown",
   "metadata": {},
   "source": [
    "## Run Classifier"
   ]
  },
  {
   "cell_type": "code",
   "execution_count": 23,
   "metadata": {},
   "outputs": [],
   "source": [
    "from sklearn.gaussian_process import GaussianProcessClassifier\n",
    "from sklearn.gaussian_process.kernels import RBF\n",
    "from sklearn.ensemble import RandomForestClassifier, AdaBoostClassifier\n",
    "from sklearn.pipeline import make_pipeline"
   ]
  },
  {
   "cell_type": "code",
   "execution_count": 36,
   "metadata": {},
   "outputs": [],
   "source": [
    "# classifier = GaussianProcessClassifier(1.0 * RBF(1.0))\n",
    "classifier = SVC(gamma=\"scale\", C=2, class_weight=\"balanced\")\n",
    "# classifier = RandomForestClassifier(max_depth=5, n_estimators=10, max_features=1)\n",
    "\n",
    "# Create the pipeline\n",
    "pipeline = make_pipeline(StandardScaler(), classifier)"
   ]
  },
  {
   "cell_type": "code",
   "execution_count": 37,
   "metadata": {},
   "outputs": [
    {
     "name": "stdout",
     "output_type": "stream",
     "text": [
      "Fold 0:\n",
      "(98, 4608) (98,)\n",
      "Train F1 micro: 1.0\n",
      "Test F1 micro: 0.46153846153846156\n",
      "Fold 1:\n",
      "(98, 4608) (98,)\n",
      "Train F1 micro: 1.0\n",
      "Test F1 micro: 0.46153846153846156\n",
      "Fold 2:\n",
      "(100, 4608) (100,)\n",
      "Train F1 micro: 1.0\n",
      "Test F1 micro: 0.5833333333333334\n",
      "Fold 3:\n",
      "(100, 4608) (100,)\n",
      "Train F1 micro: 1.0\n",
      "Test F1 micro: 0.5\n",
      "Fold 4:\n",
      "(100, 4608) (100,)\n",
      "Train F1 micro: 1.0\n",
      "Test F1 micro: 0.5833333333333334\n",
      "Average train F1 micro: 1.0\n",
      "Average test F1 micro: 0.517948717948718\n"
     ]
    }
   ],
   "source": [
    "classifier = cross_validate(\n",
    "    pipeline,\n",
    "    X_train,\n",
    "    y_train,\n",
    "    X_train_mod,\n",
    "    y_train_mod,\n",
    "    num_mod_samples_orig,\n",
    "    splits=5,\n",
    ")"
   ]
  },
  {
   "cell_type": "code",
   "execution_count": 38,
   "metadata": {},
   "outputs": [
    {
     "name": "stdout",
     "output_type": "stream",
     "text": [
      "f1_micro_train: 0.967741935483871\n"
     ]
    }
   ],
   "source": [
    "X_train_full = np.concatenate([X_train, X_train_mod])\n",
    "y_train_full = np.concatenate([y_train, y_train_mod])\n",
    "classifier.fit(X_train_full, y_train_full)\n",
    "y_test_pred = classifier.predict(X_test)\n",
    "y_train_pred = classifier.predict(X_train)\n",
    "f1_micro_train = f1_score(y_train, y_train_pred, average=\"micro\")\n",
    "print(f\"f1_micro_train: {f1_micro_train}\")"
   ]
  },
  {
   "cell_type": "code",
   "execution_count": null,
   "metadata": {},
   "outputs": [],
   "source": [
    "# y_train_pred, y_test_pred = run_sklearn_classifier(pipeline, X_train, y_train, X_test)"
   ]
  },
  {
   "cell_type": "code",
   "execution_count": 39,
   "metadata": {},
   "outputs": [
    {
     "data": {
      "text/plain": [
       "array([-1, -1,  1, -1, -1,  0,  0,  0,  0,  0, -1,  1,  0, -1,  0,  0, -1,\n",
       "        0, -1,  1, -1,  1,  1,  0, -1, -1, -1, -1, -1, -1,  1, -1, -1, -1,\n",
       "       -1, -1, -1,  0,  0,  1,  0, -1, -1, -1, -1, -1, -1, -1, -1, -1,  1,\n",
       "        1, -1, -1, -1,  1, -1, -1, -1,  0, -1, -1])"
      ]
     },
     "execution_count": 39,
     "metadata": {},
     "output_type": "execute_result"
    }
   ],
   "source": [
    "y_train_pred"
   ]
  },
  {
   "attachments": {},
   "cell_type": "markdown",
   "metadata": {},
   "source": [
    "## Save submission"
   ]
  },
  {
   "cell_type": "code",
   "execution_count": 27,
   "metadata": {},
   "outputs": [
    {
     "name": "stdout",
     "output_type": "stream",
     "text": [
      "Index([-1, 0, 1], dtype='int64', name='malignant')\n",
      "Index(['negative', 'benign', 'malignant'], dtype='object', name='malignant')\n"
     ]
    },
    {
     "data": {
      "image/png": "[encoded data removed]",
      "text/plain": [
       "<Figure size 640x480 with 1 Axes>"
      ]
     },
     "metadata": {},
     "output_type": "display_data"
    }
   ],
   "source": [
    "submission = create_submission_file(test_set_paths, y_test_pred)"
   ]
  }
 ],
 "metadata": {
  "kernelspec": {
   "display_name": "hipt",
   "language": "python",
   "name": "python3"
  },
  "language_info": {
   "codemirror_mode": {
    "name": "ipython",
    "version": 3
   },
   "file_extension": ".py",
   "mimetype": "text/x-python",
   "name": "python",
   "nbconvert_exporter": "python",
   "pygments_lexer": "ipython3",
   "version": "3.8.16"
  },
  "orig_nbformat": 4
 },
 "nbformat": 4,
 "nbformat_minor": 2
}
