{
 "cells": [
  {
   "cell_type": "code",
   "execution_count": 1,
   "metadata": {
    "id": "DZSF_JbMzR4Q",
    "pycharm": {
     "name": "#%%\n"
    }
   },
   "outputs": [],
   "source": [
    "import os\n",
    "import pandas as pd\n",
    "from PIL import Image\n",
    "import torch\n",
    "import torch.nn as nn\n",
    "from torch.utils.data import Dataset, DataLoader\n",
    "from torchvision import models, transforms\n",
    "from sklearn.naive_bayes import GaussianNB"
   ]
  },
  {
   "cell_type": "code",
   "execution_count": 2,
   "metadata": {
    "collapsed": false,
    "pycharm": {
     "name": "#%%\n"
    }
   },
   "outputs": [],
   "source": [
    "# Configs\n",
    "data_root = \"./data/oxml-carinoma-classification\"  # This data_root should contain the images in .png format and the label.csv\n",
    "submission_file = \"./submission.csv\"\n",
    "label_path = f\"{data_root}/labels.csv\"\n",
    "seed = 1"
   ]
  },
  {
   "cell_type": "code",
   "execution_count": 3,
   "metadata": {
    "id": "rpB-iO7jzXXr",
    "pycharm": {
     "name": "#%%\n"
    }
   },
   "outputs": [],
   "source": [
    "class OxMLDataset(Dataset):\n",
    "    def __init__(self, img_folder, dataset, mode=\"test\", transform=None):\n",
    "        self.img_folder = img_folder\n",
    "        self.transform = transform\n",
    "        self.dataset = dataset\n",
    "        self.mode = mode\n",
    "\n",
    "    def __getitem__(self, idx):\n",
    "        if torch.is_tensor(idx):\n",
    "            idx = idx.tolist()\n",
    "\n",
    "        # Create img path\n",
    "        if self.mode == \"test\":\n",
    "            img_path = os.path.join(\n",
    "                self.img_folder, f\"img_{self.dataset.id.iloc[idx]}.png\"\n",
    "            )\n",
    "        else:\n",
    "            img_path = os.path.join(\n",
    "                self.img_folder,\n",
    "                f\"img_{self.dataset.id.iloc[idx]}_{self.dataset.aug.iloc[idx]}.png\",\n",
    "            )\n",
    "\n",
    "        img = Image.open(img_path)\n",
    "        if self.transform:\n",
    "            img = self.transform(img)\n",
    "\n",
    "        label = self.dataset.malignant.iloc[idx] + 1\n",
    "        id = self.dataset.id.iloc[idx]\n",
    "\n",
    "        return img, label, id\n",
    "\n",
    "    def __len__(self):\n",
    "        return self.dataset.shape[0]"
   ]
  },
  {
   "cell_type": "code",
   "execution_count": 4,
   "metadata": {
    "collapsed": false,
    "pycharm": {
     "name": "#%%\n"
    }
   },
   "outputs": [],
   "source": [
    "all_files = os.listdir(data_root)\n",
    "train_ids_labels = pd.read_csv(label_path)\n",
    "\n",
    "test_ids = []\n",
    "for i in all_files:\n",
    "    try:\n",
    "        if i.split(\".\")[0].split(\"_\")[1].isnumeric():\n",
    "            number_patient = int(i.split(\".\")[0].split(\"_\")[1])\n",
    "            if number_patient not in list(train_ids_labels.id):\n",
    "                test_ids.append([number_patient, -2])\n",
    "    except:\n",
    "        continue\n",
    "test_ids = pd.DataFrame(test_ids, columns=[\"id\", \"malignant\"])"
   ]
  },
  {
   "cell_type": "code",
   "execution_count": 5,
   "metadata": {
    "collapsed": false,
    "pycharm": {
     "name": "#%%\n"
    }
   },
   "outputs": [
    {
     "name": "stdout",
     "output_type": "stream",
     "text": [
      "Using cuda device\n"
     ]
    }
   ],
   "source": [
    "torch.manual_seed(seed)\n",
    "device = torch.device(\"cuda\" if torch.cuda.is_available() else \"cpu\")\n",
    "print(f\"Using {device} device\")\n",
    "\n",
    "train_ids_labels = pd.read_csv(label_path)\n",
    "\n",
    "transform_list = transforms.Compose(\n",
    "    [\n",
    "        transforms.ToTensor(),\n",
    "        transforms.Normalize((0.7855, 0.6791, 0.8600), (0.2116, 0.2516, 0.1184)),\n",
    "    ]\n",
    ")\n",
    "\n",
    "dataset = {\n",
    "    \"train\": OxMLDataset(\n",
    "        data_root, dataset=train_ids_labels, transform=transform_list, mode=\"test\"\n",
    "    ),\n",
    "    \"test\": OxMLDataset(data_root, test_ids, transform=transform_list, mode=\"test\"),\n",
    "}\n",
    "\n",
    "dataloader = {\n",
    "    x: DataLoader(dataset[x], batch_size=1, shuffle=False) for x in [\"train\", \"test\"]\n",
    "}\n",
    "\n",
    "model = models.resnet50(weights=models.ResNet50_Weights.DEFAULT)\n",
    "model = torch.nn.Sequential(*list(model.children())[:-1], nn.AdaptiveAvgPool2d(1))\n",
    "model.to(device)\n",
    "\n",
    "# Get the features from the model\n",
    "labels, features, ids = {}, {}, {}\n",
    "for mode in [\"train\", \"test\"]:\n",
    "    labels[mode] = torch.Tensor().to(device)\n",
    "    features[mode] = torch.Tensor().to(device)\n",
    "    ids[mode] = []\n",
    "\n",
    "    for data in dataloader[mode]:\n",
    "        input, label, id = data[0].to(device), data[1].to(device), data[2].to(device)\n",
    "        with torch.no_grad():\n",
    "            outputs = model(input)\n",
    "        labels[mode] = torch.cat((labels[mode], label))\n",
    "        features[mode] = torch.cat((features[mode], outputs))\n",
    "        ids[mode].append(id.item())\n",
    "    features[mode] = features[mode].squeeze()\n",
    "\n",
    "clf = GaussianNB()\n",
    "clf.fit(features[\"train\"].cpu(), labels[\"train\"].cpu())\n",
    "# Make them compatible with the submission protocol by substr -1\n",
    "preds = clf.predict(features[\"test\"].cpu()).astype(int) - 1\n",
    "out_df = pd.DataFrame({\"id\": ids[\"test\"], \"malignant\": preds})\n",
    "out_df.to_csv(submission_file, index=False)"
   ]
  },
  {
   "cell_type": "code",
   "execution_count": 6,
   "metadata": {
    "collapsed": false,
    "pycharm": {
     "name": "#%%\n"
    }
   },
   "outputs": [
    {
     "data": {
      "text/html": [
       "<div>\n",
       "<style scoped>\n",
       "    .dataframe tbody tr th:only-of-type {\n",
       "        vertical-align: middle;\n",
       "    }\n",
       "\n",
       "    .dataframe tbody tr th {\n",
       "        vertical-align: top;\n",
       "    }\n",
       "\n",
       "    .dataframe thead th {\n",
       "        text-align: right;\n",
       "    }\n",
       "</style>\n",
       "<table border=\"1\" class=\"dataframe\">\n",
       "  <thead>\n",
       "    <tr style=\"text-align: right;\">\n",
       "      <th></th>\n",
       "      <th>id</th>\n",
       "      <th>malignant</th>\n",
       "    </tr>\n",
       "  </thead>\n",
       "  <tbody>\n",
       "    <tr>\n",
       "      <th>0</th>\n",
       "      <td>103601</td>\n",
       "      <td>-1</td>\n",
       "    </tr>\n",
       "    <tr>\n",
       "      <th>1</th>\n",
       "      <td>105480</td>\n",
       "      <td>-1</td>\n",
       "    </tr>\n",
       "    <tr>\n",
       "      <th>2</th>\n",
       "      <td>118847</td>\n",
       "      <td>-1</td>\n",
       "    </tr>\n",
       "    <tr>\n",
       "      <th>3</th>\n",
       "      <td>125877</td>\n",
       "      <td>-1</td>\n",
       "    </tr>\n",
       "    <tr>\n",
       "      <th>4</th>\n",
       "      <td>133778</td>\n",
       "      <td>-1</td>\n",
       "    </tr>\n",
       "    <tr>\n",
       "      <th>...</th>\n",
       "      <td>...</td>\n",
       "      <td>...</td>\n",
       "    </tr>\n",
       "    <tr>\n",
       "      <th>119</th>\n",
       "      <td>968389</td>\n",
       "      <td>-1</td>\n",
       "    </tr>\n",
       "    <tr>\n",
       "      <th>120</th>\n",
       "      <td>97549</td>\n",
       "      <td>-1</td>\n",
       "    </tr>\n",
       "    <tr>\n",
       "      <th>121</th>\n",
       "      <td>976505</td>\n",
       "      <td>-1</td>\n",
       "    </tr>\n",
       "    <tr>\n",
       "      <th>122</th>\n",
       "      <td>996288</td>\n",
       "      <td>-1</td>\n",
       "    </tr>\n",
       "    <tr>\n",
       "      <th>123</th>\n",
       "      <td>997841</td>\n",
       "      <td>-1</td>\n",
       "    </tr>\n",
       "  </tbody>\n",
       "</table>\n",
       "<p>124 rows × 2 columns</p>\n",
       "</div>"
      ],
      "text/plain": [
       "         id  malignant\n",
       "0    103601         -1\n",
       "1    105480         -1\n",
       "2    118847         -1\n",
       "3    125877         -1\n",
       "4    133778         -1\n",
       "..      ...        ...\n",
       "119  968389         -1\n",
       "120   97549         -1\n",
       "121  976505         -1\n",
       "122  996288         -1\n",
       "123  997841         -1\n",
       "\n",
       "[124 rows x 2 columns]"
      ]
     },
     "execution_count": 6,
     "metadata": {},
     "output_type": "execute_result"
    }
   ],
   "source": [
    "out_df"
   ]
  }
 ],
 "metadata": {
  "accelerator": "GPU",
  "colab": {
   "authorship_tag": "ABX9TyNybqKQgFMm0eb7u13xXNQu",
   "gpuType": "T4",
   "include_colab_link": true,
   "mount_file_id": "13bvmZEMOZIvWNukg3nDPxJ8VxTKffyK5",
   "provenance": []
  },
  "kernelspec": {
   "display_name": "Python 3",
   "name": "python3"
  },
  "language_info": {
   "codemirror_mode": {
    "name": "ipython",
    "version": 3
   },
   "file_extension": ".py",
   "mimetype": "text/x-python",
   "name": "python",
   "nbconvert_exporter": "python",
   "pygments_lexer": "ipython3",
   "version": "3.8.16"
  }
 },
 "nbformat": 4,
 "nbformat_minor": 0
}
