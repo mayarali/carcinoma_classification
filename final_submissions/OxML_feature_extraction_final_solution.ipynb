{
 "nbformat": 4,
 "nbformat_minor": 0,
 "metadata": {
  "colab": {
   "provenance": [],
   "gpuType": "T4",
   "mount_file_id": "13bvmZEMOZIvWNukg3nDPxJ8VxTKffyK5",
   "authorship_tag": "ABX9TyNybqKQgFMm0eb7u13xXNQu",
   "include_colab_link": true
  },
  "kernelspec": {
   "name": "python3",
   "display_name": "Python 3"
  },
  "language_info": {
   "name": "python"
  },
  "accelerator": "GPU"
 },
 "cells": [
  {
   "cell_type": "markdown",
   "metadata": {
    "id": "view-in-github",
    "colab_type": "text",
    "pycharm": {
     "name": "#%% md\n"
    }
   },
   "source": [
    "<a href=\"https://colab.research.google.com/github/mayarali/carcinoma_classification/blob/fatih/OxML_feature_extraction.ipynb\" target=\"_parent\"><img src=\"https://colab.research.google.com/assets/colab-badge.svg\" alt=\"Open In Colab\"/></a>"
   ]
  },
  {
   "cell_type": "code",
   "execution_count": 1,
   "metadata": {
    "id": "DZSF_JbMzR4Q",
    "pycharm": {
     "name": "#%%\n"
    }
   },
   "outputs": [],
   "source": [
    "import os\n",
    "import pandas as pd\n",
    "from PIL import Image\n",
    "import torch\n",
    "import torch.nn as nn\n",
    "from torch.utils.data import Dataset, DataLoader\n",
    "from torchvision import models, transforms\n",
    "from sklearn.naive_bayes import GaussianNB\n"
   ]
  },
  {
   "cell_type": "code",
   "execution_count": 2,
   "outputs": [],
   "source": [
    "#Configs\n",
    "\n",
    "data_root = '~/OxML/' #This data_root should contain the images in .png format and the label.csv\n",
    "submission_file = data_root + 'submission.csv'\n",
    "label_path = data_root + 'labels.csv'\n",
    "seed = 1"
   ],
   "metadata": {
    "collapsed": false,
    "pycharm": {
     "name": "#%%\n"
    }
   }
  },
  {
   "cell_type": "code",
   "source": [
    "\n",
    "class OxML_Dataset(Dataset):\n",
    "\n",
    "    def __init__(self, img_folder, dataset, mode='test', transform=None):\n",
    "\n",
    "        self.img_folder = img_folder\n",
    "        self.transform = transform\n",
    "        self.dataset = dataset\n",
    "        self.mode = mode\n",
    "\n",
    "\n",
    "    def __getitem__(self, idx):\n",
    "\n",
    "        if torch.is_tensor(idx):\n",
    "            idx = idx.tolist()\n",
    "\n",
    "        #Create img path\n",
    "        if self.mode == 'test':\n",
    "            img_path = os.path.join(self.img_folder, f\"img_{self.dataset.id.iloc[idx]}.png\")\n",
    "        else:\n",
    "            img_path = os.path.join(self.img_folder, f\"img_{self.dataset.id.iloc[idx]}_{self.dataset.aug.iloc[idx]}.png\")\n",
    "\n",
    "        img = Image.open(img_path)\n",
    "        if self.transform:\n",
    "            img = self.transform(img)\n",
    "\n",
    "\n",
    "        label = self.dataset.malignant.iloc[idx] + 1\n",
    "        id = self.dataset.id.iloc[idx]\n",
    "\n",
    "\n",
    "        return img, label, id\n",
    "\n",
    "    def __len__(self):\n",
    "        return self.dataset.shape[0]\n"
   ],
   "metadata": {
    "id": "rpB-iO7jzXXr",
    "pycharm": {
     "name": "#%%\n"
    }
   },
   "execution_count": 3,
   "outputs": []
  },
  {
   "cell_type": "code",
   "execution_count": 4,
   "outputs": [],
   "source": [
    "all_files = os.listdir(data_root)\n",
    "train_ids_labels = pd.read_csv(label_path)\n",
    "\n",
    "test_ids = []\n",
    "for i in all_files:\n",
    "    try:\n",
    "        if i.split(\".\")[0].split(\"_\")[1].isnumeric() :\n",
    "            number_patient = int(i.split(\".\")[0].split(\"_\")[1])\n",
    "            if number_patient not in list(train_ids_labels.id):\n",
    "                test_ids.append([number_patient,-2])\n",
    "    except:\n",
    "        continue\n",
    "test_ids = pd.DataFrame(test_ids, columns =['id', \"malignant\"])"
   ],
   "metadata": {
    "collapsed": false,
    "pycharm": {
     "name": "#%%\n"
    }
   }
  },
  {
   "cell_type": "code",
   "execution_count": 5,
   "outputs": [],
   "source": [
    "\n",
    "torch.manual_seed(seed)\n",
    "device = torch.device('cuda' if torch.cuda.is_available() else 'cpu')\n",
    "\n",
    "train_ids_labels = pd.read_csv(label_path)\n",
    "\n",
    "transform_list = transforms.Compose([ transforms.ToTensor(),\n",
    "                                  transforms.Normalize((0.7855, 0.6791, 0.8600),\n",
    "                                                       (0.2116, 0.2516, 0.1184))])\n",
    "\n",
    "dataset = {'train': OxML_Dataset(data_root, dataset = train_ids_labels, transform=transform_list, mode='test'),\n",
    "           'test' : OxML_Dataset(data_root, test_ids, transform=transform_list, mode='test')}\n",
    "\n",
    "dataloader = {x: DataLoader(dataset[x], batch_size=1, shuffle=False) for x in ['train', 'test']}\n",
    "\n",
    "model = models.resnet50(weights=models.ResNet50_Weights.DEFAULT)\n",
    "model = torch.nn.Sequential(*list(model.children())[:-1], nn.AdaptiveAvgPool2d(1))\n",
    "model.to(device)\n",
    "\n",
    "#Get the features from the model\n",
    "labels, features, ids = {}, {}, {}\n",
    "for mode in ['train', 'test']:\n",
    "    labels[mode] = torch.Tensor().to(device)\n",
    "    features[mode] = torch.Tensor().to(device)\n",
    "    ids[mode] = []\n",
    "\n",
    "    for data in dataloader[mode]:\n",
    "        input, label, id = data[0].to(device), data[1].to(device), data[2].to(device)\n",
    "        with torch.no_grad():\n",
    "            outputs = model(input)\n",
    "        labels[mode] = torch.cat((labels[mode], label))\n",
    "        features[mode] = torch.cat((features[mode], outputs))\n",
    "        ids[mode].append(id.item())\n",
    "    features[mode] = features[mode].squeeze()\n",
    "\n",
    "clf = GaussianNB()\n",
    "clf.fit(features['train'].cpu(), labels['train'].cpu())\n",
    "# Make them compatible with the submission protocol by substr -1\n",
    "preds = clf.predict(features['test'].cpu()).astype(int)-1\n",
    "out_df = pd.DataFrame({'id': ids['test'], 'malignant': preds})\n",
    "out_df.to_csv(submission_file, index=False)\n"
   ],
   "metadata": {
    "collapsed": false,
    "pycharm": {
     "name": "#%%\n"
    }
   }
  },
  {
   "cell_type": "code",
   "execution_count": 6,
   "outputs": [
    {
     "data": {
      "text/plain": "         id  malignant\n0    863080         -1\n1    996288         -1\n2    175012          0\n3    105480         -1\n4     74995         -1\n..      ...        ...\n119   67212         -1\n120  957521         -1\n121  757632         -1\n122  240314         -1\n123  959476         -1\n\n[124 rows x 2 columns]",
      "text/html": "<div>\n<style scoped>\n    .dataframe tbody tr th:only-of-type {\n        vertical-align: middle;\n    }\n\n    .dataframe tbody tr th {\n        vertical-align: top;\n    }\n\n    .dataframe thead th {\n        text-align: right;\n    }\n</style>\n<table border=\"1\" class=\"dataframe\">\n  <thead>\n    <tr style=\"text-align: right;\">\n      <th></th>\n      <th>id</th>\n      <th>malignant</th>\n    </tr>\n  </thead>\n  <tbody>\n    <tr>\n      <th>0</th>\n      <td>863080</td>\n      <td>-1</td>\n    </tr>\n    <tr>\n      <th>1</th>\n      <td>996288</td>\n      <td>-1</td>\n    </tr>\n    <tr>\n      <th>2</th>\n      <td>175012</td>\n      <td>0</td>\n    </tr>\n    <tr>\n      <th>3</th>\n      <td>105480</td>\n      <td>-1</td>\n    </tr>\n    <tr>\n      <th>4</th>\n      <td>74995</td>\n      <td>-1</td>\n    </tr>\n    <tr>\n      <th>...</th>\n      <td>...</td>\n      <td>...</td>\n    </tr>\n    <tr>\n      <th>119</th>\n      <td>67212</td>\n      <td>-1</td>\n    </tr>\n    <tr>\n      <th>120</th>\n      <td>957521</td>\n      <td>-1</td>\n    </tr>\n    <tr>\n      <th>121</th>\n      <td>757632</td>\n      <td>-1</td>\n    </tr>\n    <tr>\n      <th>122</th>\n      <td>240314</td>\n      <td>-1</td>\n    </tr>\n    <tr>\n      <th>123</th>\n      <td>959476</td>\n      <td>-1</td>\n    </tr>\n  </tbody>\n</table>\n<p>124 rows × 2 columns</p>\n</div>"
     },
     "execution_count": 6,
     "metadata": {},
     "output_type": "execute_result"
    }
   ],
   "source": [
    "out_df"
   ],
   "metadata": {
    "collapsed": false,
    "pycharm": {
     "name": "#%%\n"
    }
   }
  }
 ]
}