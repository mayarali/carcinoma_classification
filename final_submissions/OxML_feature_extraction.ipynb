{
 "nbformat": 4,
 "nbformat_minor": 0,
 "metadata": {
  "colab": {
   "provenance": [],
   "gpuType": "T4",
   "mount_file_id": "13bvmZEMOZIvWNukg3nDPxJ8VxTKffyK5",
   "authorship_tag": "ABX9TyNybqKQgFMm0eb7u13xXNQu",
   "include_colab_link": true
  },
  "kernelspec": {
   "name": "python3",
   "display_name": "Python 3"
  },
  "language_info": {
   "name": "python"
  },
  "accelerator": "GPU"
 },
 "cells": [
  {
   "cell_type": "code",
   "execution_count": 1,
   "metadata": {
    "id": "DZSF_JbMzR4Q",
    "pycharm": {
     "name": "#%%\n"
    }
   },
   "outputs": [],
   "source": [
    "import os\n",
    "import pandas as pd\n",
    "from PIL import Image\n",
    "import torch\n",
    "import torch.nn as nn\n",
    "from torch.utils.data import Dataset, DataLoader\n",
    "from torchvision import models, transforms\n",
    "from sklearn.model_selection import StratifiedKFold\n",
    "from sklearn.metrics import f1_score\n",
    "from sklearn.ensemble import RandomForestClassifier, AdaBoostClassifier, GradientBoostingClassifier\n",
    "from sklearn.neighbors import KNeighborsClassifier\n",
    "from sklearn.naive_bayes import GaussianNB\n",
    "from sklearn.svm import SVC\n",
    "from pprint import pprint\n"
   ]
  },
  {
   "cell_type": "code",
   "execution_count": 2,
   "outputs": [],
   "source": [
    "#Configs\n",
    "data_root = '~/OxML/' #This data_root should contain the images in .png format and the label.csv\n",
    "submission_file = data_root + 'submission.csv'\n",
    "label_path = data_root + 'labels.csv'\n",
    "seed = 1"
   ],
   "metadata": {
    "collapsed": false,
    "pycharm": {
     "name": "#%%\n"
    }
   }
  },
  {
   "cell_type": "code",
   "source": [
    "\n",
    "class OxML_Dataset(Dataset):\n",
    "\n",
    "    def __init__(self, img_folder, dataset, mode='test', transform=None):\n",
    "\n",
    "        self.img_folder = img_folder\n",
    "        self.transform = transform\n",
    "        self.dataset = dataset\n",
    "        self.mode = mode\n",
    "\n",
    "\n",
    "    def __getitem__(self, idx):\n",
    "\n",
    "        if torch.is_tensor(idx):\n",
    "            idx = idx.tolist()\n",
    "\n",
    "        #Create img path\n",
    "        if self.mode == 'test':\n",
    "            img_path = os.path.join(self.img_folder, f\"img_{self.dataset.id.iloc[idx]}.png\")\n",
    "        else:\n",
    "            img_path = os.path.join(self.img_folder, f\"img_{self.dataset.id.iloc[idx]}_{self.dataset.aug.iloc[idx]}.png\")\n",
    "\n",
    "        img = Image.open(img_path)\n",
    "        if self.transform:\n",
    "            img = self.transform(img)\n",
    "\n",
    "\n",
    "        label = self.dataset.malignant.iloc[idx] + 1\n",
    "        id = self.dataset.id.iloc[idx]\n",
    "\n",
    "\n",
    "        return img, label, id\n",
    "\n",
    "    def __len__(self):\n",
    "        return self.dataset.shape[0]\n"
   ],
   "metadata": {
    "id": "rpB-iO7jzXXr",
    "pycharm": {
     "name": "#%%\n"
    }
   },
   "execution_count": 3,
   "outputs": []
  },
  {
   "cell_type": "code",
   "execution_count": 4,
   "outputs": [],
   "source": [
    "model_dict = {\n",
    "            'resnet18': models.resnet18(weights=models.ResNet18_Weights.DEFAULT),\n",
    "              'resnet50': models.resnet50(weights=models.ResNet50_Weights.DEFAULT),\n",
    "              'vgg16': models.vgg16_bn(weights=models.VGG16_BN_Weights.DEFAULT),\n",
    "              'mobilenet': models.mobilenet_v2(weights='DEFAULT'),\n",
    "              'googlenet': models.googlenet(weights='DEFAULT'),\n",
    "              'densenet': models.densenet161(weights='DEFAULT'),\n",
    "              'shufflenet': models.shufflenet_v2_x1_0(weights='DEFAULT'),\n",
    "              'efficientnet': models.efficientnet_v2_s(weights='DEFAULT')\n",
    "              }\n",
    "clf_dict = {\n",
    "    'knn': KNeighborsClassifier(n_neighbors=5),\n",
    "            'random forest': RandomForestClassifier(),\n",
    "            'svm': SVC(),\n",
    "            'naive bayes': GaussianNB(),\n",
    "            'adaboost': AdaBoostClassifier(),\n",
    "            'xgboost': GradientBoostingClassifier()\n",
    "            }\n"
   ],
   "metadata": {
    "collapsed": false,
    "pycharm": {
     "name": "#%%\n"
    }
   }
  },
  {
   "cell_type": "code",
   "source": [
    "\n",
    "torch.manual_seed(seed)\n",
    "device = torch.device('cuda' if torch.cuda.is_available() else 'cpu')\n",
    "\n",
    "transform_list = transforms.Compose([ transforms.ToTensor(),\n",
    "                                      transforms.Normalize((0.7855, 0.6791, 0.8600),\n",
    "                                                       (0.2116, 0.2516, 0.1184))])\n",
    "\n",
    "train_ids_labels = pd.read_csv(label_path)\n",
    "dataset = OxML_Dataset(img_folder = data_root, dataset = train_ids_labels, transform=transform_list)\n",
    "\n",
    "dataloader = DataLoader(dataset, batch_size=1, shuffle=False)\n",
    "\n",
    "from collections import defaultdict\n",
    "results = defaultdict(dict)\n",
    "\n",
    "for model_name in model_dict:\n",
    "\n",
    "    model = model_dict[model_name]\n",
    "    model = torch.nn.Sequential(*list(model.children())[:-1], nn.AdaptiveAvgPool2d(1))\n",
    "    model.to(device)\n",
    "\n",
    "    labels = torch.Tensor().to(device)\n",
    "    features = torch.Tensor().to(device)\n",
    "    ids = torch.Tensor().to(device)\n",
    "\n",
    "    for data in dataloader:\n",
    "        input, label, id = data[0].to(device), data[1].to(device), data[2].to(device)\n",
    "        with torch.no_grad():\n",
    "            outputs = model(input)\n",
    "        labels = torch.cat((labels, label))\n",
    "        features = torch.cat((features, outputs))\n",
    "        ids = torch.cat((ids, id))\n",
    "    features = features.squeeze()\n",
    "    for clf_name in clf_dict:\n",
    "        skf = StratifiedKFold(n_splits=5)\n",
    "        f1_total = 0\n",
    "        for fold, (train_index, val_index) in enumerate(skf.split(features.cpu(), labels.cpu())):\n",
    "            clf = clf_dict[clf_name]\n",
    "            clf.fit(features[train_index].cpu(), labels[train_index].cpu())\n",
    "            preds = clf.predict(features[val_index].cpu())\n",
    "            f1_total += f1_score(labels[val_index].cpu(), preds, average='micro')\n",
    "        results[model_name][clf_name] = round(f1_total/5,4)\n",
    "pprint(dict(results))"
   ],
   "metadata": {
    "colab": {
     "base_uri": "https://localhost:8080/"
    },
    "id": "OMsDvIeAzZg8",
    "outputId": "1542e972-b8ce-4b75-fe26-f95d645dc95e",
    "pycharm": {
     "name": "#%%\n"
    }
   },
   "execution_count": 5,
   "outputs": [
    {
     "name": "stdout",
     "output_type": "stream",
     "text": [
      "{'densenet': {'adaboost': 0.5474,\n",
      "              'knn': 0.5192,\n",
      "              'naive bayes': 0.2769,\n",
      "              'random forest': 0.5808,\n",
      "              'svm': 0.5808,\n",
      "              'xgboost': 0.5321},\n",
      " 'efficientnet': {'adaboost': 0.4641,\n",
      "                  'knn': 0.5654,\n",
      "                  'naive bayes': 0.5641,\n",
      "                  'random forest': 0.6154,\n",
      "                  'svm': 0.5487,\n",
      "                  'xgboost': 0.5308},\n",
      " 'googlenet': {'adaboost': 0.4705,\n",
      "               'knn': 0.4987,\n",
      "               'naive bayes': 0.5808,\n",
      "               'random forest': 0.5808,\n",
      "               'svm': 0.5808,\n",
      "               'xgboost': 0.4051},\n",
      " 'mobilenet': {'adaboost': 0.4526,\n",
      "               'knn': 0.2436,\n",
      "               'naive bayes': 0.5808,\n",
      "               'random forest': 0.5641,\n",
      "               'svm': 0.5808,\n",
      "               'xgboost': 0.4346},\n",
      " 'resnet18': {'adaboost': 0.4679,\n",
      "              'knn': 0.2577,\n",
      "              'naive bayes': 0.5974,\n",
      "              'random forest': 0.5808,\n",
      "              'svm': 0.5808,\n",
      "              'xgboost': 0.4487},\n",
      " 'resnet50': {'adaboost': 0.4859,\n",
      "              'knn': 0.3026,\n",
      "              'naive bayes': 0.6141,\n",
      "              'random forest': 0.5654,\n",
      "              'svm': 0.5808,\n",
      "              'xgboost': 0.4859},\n",
      " 'shufflenet': {'adaboost': 0.5013,\n",
      "                'knn': 0.291,\n",
      "                'naive bayes': 0.6128,\n",
      "                'random forest': 0.5808,\n",
      "                'svm': 0.5808,\n",
      "                'xgboost': 0.4859},\n",
      " 'vgg16': {'adaboost': 0.4154,\n",
      "           'knn': 0.3077,\n",
      "           'naive bayes': 0.4038,\n",
      "           'random forest': 0.4846,\n",
      "           'svm': 0.5808,\n",
      "           'xgboost': 0.4667}}\n"
     ]
    }
   ]
  },
  {
   "cell_type": "code",
   "execution_count": 6,
   "outputs": [],
   "source": [
    "all_files = os.listdir(data_root)\n",
    "train_ids_labels = pd.read_csv(label_path)\n",
    "\n",
    "test_ids = []\n",
    "for i in all_files:\n",
    "    try:\n",
    "        if i.split(\".\")[0].split(\"_\")[1].isnumeric() :\n",
    "            number_patient = int(i.split(\".\")[0].split(\"_\")[1])\n",
    "            if number_patient not in list(train_ids_labels.id):\n",
    "                test_ids.append([number_patient,-2])\n",
    "    except:\n",
    "        continue\n",
    "test_ids = pd.DataFrame(test_ids, columns =['id', \"malignant\"])"
   ],
   "metadata": {
    "collapsed": false,
    "pycharm": {
     "name": "#%%\n"
    }
   }
  },
  {
   "cell_type": "code",
   "execution_count": 7,
   "outputs": [],
   "source": [
    "\n",
    "model_name = 'resnet50'\n",
    "clf_name = 'naive bayes'\n",
    "torch.manual_seed(seed)\n",
    "device = torch.device('cuda' if torch.cuda.is_available() else 'cpu')\n",
    "\n",
    "train_ids_labels = pd.read_csv(label_path)\n",
    "\n",
    "transform_list = transforms.Compose([ transforms.ToTensor(),\n",
    "                                  transforms.Normalize((0.7855, 0.6791, 0.8600),\n",
    "                                                       (0.2116, 0.2516, 0.1184))])\n",
    "\n",
    "dataset = {'train': OxML_Dataset(data_root, dataset = train_ids_labels, transform=transform_list, mode='test'),\n",
    "           'test' : OxML_Dataset(data_root, test_ids, transform=transform_list, mode='test')}\n",
    "\n",
    "dataloader = {x: DataLoader(dataset[x], batch_size=1, shuffle=False) for x in ['train', 'test']}\n",
    "\n",
    "model = model_dict[model_name]\n",
    "model = torch.nn.Sequential(*list(model.children())[:-1], nn.AdaptiveAvgPool2d(1))\n",
    "model.to(device)\n",
    "\n",
    "#Get the features from the model\n",
    "labels, features, ids = {}, {}, {}\n",
    "for mode in ['train', 'test']:\n",
    "    labels[mode] = torch.Tensor().to(device)\n",
    "    features[mode] = torch.Tensor().to(device)\n",
    "    ids[mode] = []\n",
    "\n",
    "    for data in dataloader[mode]:\n",
    "        input, label, id = data[0].to(device), data[1].to(device), data[2].to(device)\n",
    "        with torch.no_grad():\n",
    "            outputs = model(input)\n",
    "        labels[mode] = torch.cat((labels[mode], label))\n",
    "        features[mode] = torch.cat((features[mode], outputs))\n",
    "        ids[mode].append(id.item())\n",
    "    features[mode] = features[mode].squeeze()\n",
    "\n",
    "clf = clf_dict[clf_name]\n",
    "clf.fit(features['train'].cpu(), labels['train'].cpu())\n",
    "preds = clf.predict(features['test'].cpu()).astype(int)-1 # Make them compatible with the submission protocol\n",
    "out_df = pd.DataFrame({'id': ids['test'], 'malignant': preds})\n",
    "out_df.to_csv(submission_file, index=False)\n"
   ],
   "metadata": {
    "collapsed": false,
    "pycharm": {
     "name": "#%%\n"
    }
   }
  },
  {
   "cell_type": "code",
   "execution_count": 8,
   "outputs": [
    {
     "data": {
      "text/plain": "         id  malignant\n0    863080         -1\n1    996288         -1\n2    175012          0\n3    105480         -1\n4     74995         -1\n..      ...        ...\n119   67212         -1\n120  957521         -1\n121  757632         -1\n122  240314         -1\n123  959476         -1\n\n[124 rows x 2 columns]",
      "text/html": "<div>\n<style scoped>\n    .dataframe tbody tr th:only-of-type {\n        vertical-align: middle;\n    }\n\n    .dataframe tbody tr th {\n        vertical-align: top;\n    }\n\n    .dataframe thead th {\n        text-align: right;\n    }\n</style>\n<table border=\"1\" class=\"dataframe\">\n  <thead>\n    <tr style=\"text-align: right;\">\n      <th></th>\n      <th>id</th>\n      <th>malignant</th>\n    </tr>\n  </thead>\n  <tbody>\n    <tr>\n      <th>0</th>\n      <td>863080</td>\n      <td>-1</td>\n    </tr>\n    <tr>\n      <th>1</th>\n      <td>996288</td>\n      <td>-1</td>\n    </tr>\n    <tr>\n      <th>2</th>\n      <td>175012</td>\n      <td>0</td>\n    </tr>\n    <tr>\n      <th>3</th>\n      <td>105480</td>\n      <td>-1</td>\n    </tr>\n    <tr>\n      <th>4</th>\n      <td>74995</td>\n      <td>-1</td>\n    </tr>\n    <tr>\n      <th>...</th>\n      <td>...</td>\n      <td>...</td>\n    </tr>\n    <tr>\n      <th>119</th>\n      <td>67212</td>\n      <td>-1</td>\n    </tr>\n    <tr>\n      <th>120</th>\n      <td>957521</td>\n      <td>-1</td>\n    </tr>\n    <tr>\n      <th>121</th>\n      <td>757632</td>\n      <td>-1</td>\n    </tr>\n    <tr>\n      <th>122</th>\n      <td>240314</td>\n      <td>-1</td>\n    </tr>\n    <tr>\n      <th>123</th>\n      <td>959476</td>\n      <td>-1</td>\n    </tr>\n  </tbody>\n</table>\n<p>124 rows × 2 columns</p>\n</div>"
     },
     "execution_count": 8,
     "metadata": {},
     "output_type": "execute_result"
    }
   ],
   "source": [
    "out_df"
   ],
   "metadata": {
    "collapsed": false,
    "pycharm": {
     "name": "#%%\n"
    }
   }
  }
 ]
}